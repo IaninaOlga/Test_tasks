{
 "cells": [
  {
   "cell_type": "markdown",
   "id": "4504c3b7",
   "metadata": {
    "_cell_guid": "b1076dfc-b9ad-4769-8c92-a6c4dae69d19",
    "_uuid": "8f2839f25d086af736a60e9eeb907d3b93b6e0e5",
    "papermill": {
     "duration": 0.006398,
     "end_time": "2022-10-15T06:23:55.950729",
     "exception": false,
     "start_time": "2022-10-15T06:23:55.944331",
     "status": "completed"
    },
    "tags": []
   },
   "source": [
    "Функция для подсчета количества клиентов в каждой группе. Номер группы клиента определяется как сумма цифр Id клиента.\n",
    "Возвращает словарь с номерами групп и кол-вом клиентов в каждой группе. \n",
    "n_first_id - первый ID в последовательности, n_customers - количество клиентов."
   ]
  },
  {
   "cell_type": "code",
   "execution_count": 1,
   "id": "0d447c26",
   "metadata": {
    "execution": {
     "iopub.execute_input": "2022-10-15T06:23:55.961738Z",
     "iopub.status.busy": "2022-10-15T06:23:55.960361Z",
     "iopub.status.idle": "2022-10-15T06:23:55.973124Z",
     "shell.execute_reply": "2022-10-15T06:23:55.972061Z"
    },
    "papermill": {
     "duration": 0.021263,
     "end_time": "2022-10-15T06:23:55.976054",
     "exception": false,
     "start_time": "2022-10-15T06:23:55.954791",
     "status": "completed"
    },
    "tags": []
   },
   "outputs": [],
   "source": [
    "def group_of_cust(n_customers, n_first_id=0):\n",
    "    group_dict = dict()\n",
    "    for cust in range(n_first_id, n_customers):\n",
    "        sum_digit = 0\n",
    "        while cust != 0:\n",
    "            sum_digit += cust%10\n",
    "            cust //= 10\n",
    "        if sum_digit in group_dict:\n",
    "            group_dict[sum_digit] += 1\n",
    "        else:\n",
    "            group_dict[sum_digit] = 1\n",
    "    return(group_dict)"
   ]
  },
  {
   "cell_type": "code",
   "execution_count": 2,
   "id": "95287aba",
   "metadata": {
    "execution": {
     "iopub.execute_input": "2022-10-15T06:23:55.985189Z",
     "iopub.status.busy": "2022-10-15T06:23:55.984398Z",
     "iopub.status.idle": "2022-10-15T06:23:55.990016Z",
     "shell.execute_reply": "2022-10-15T06:23:55.989131Z"
    },
    "papermill": {
     "duration": 0.012495,
     "end_time": "2022-10-15T06:23:55.992173",
     "exception": false,
     "start_time": "2022-10-15T06:23:55.979678",
     "status": "completed"
    },
    "tags": []
   },
   "outputs": [],
   "source": [
    "#Красивый вывод словаря\n",
    "def print_dict(gr_dict):\n",
    "    #сортируем по номеру группы\n",
    "    for num_group, count in sorted(gr_dict.items()):\n",
    "        print(f'Номер группы: {num_group}. Кол-во клиентов в группе: {count}')"
   ]
  },
  {
   "cell_type": "code",
   "execution_count": 3,
   "id": "ced005e7",
   "metadata": {
    "execution": {
     "iopub.execute_input": "2022-10-15T06:23:56.001046Z",
     "iopub.status.busy": "2022-10-15T06:23:56.000160Z",
     "iopub.status.idle": "2022-10-15T06:24:04.957505Z",
     "shell.execute_reply": "2022-10-15T06:24:04.956132Z"
    },
    "papermill": {
     "duration": 8.966362,
     "end_time": "2022-10-15T06:24:04.961914",
     "exception": false,
     "start_time": "2022-10-15T06:23:55.995552",
     "status": "completed"
    },
    "tags": []
   },
   "outputs": [
    {
     "name": "stdout",
     "output_type": "stream",
     "text": [
      "Номер группы: 0. Кол-во клиентов в группе: 1\n",
      "Номер группы: 1. Кол-во клиентов в группе: 7\n",
      "Номер группы: 2. Кол-во клиентов в группе: 28\n",
      "Номер группы: 3. Кол-во клиентов в группе: 84\n",
      "Номер группы: 4. Кол-во клиентов в группе: 210\n",
      "Номер группы: 5. Кол-во клиентов в группе: 462\n",
      "Номер группы: 6. Кол-во клиентов в группе: 924\n",
      "Номер группы: 7. Кол-во клиентов в группе: 1716\n",
      "Номер группы: 8. Кол-во клиентов в группе: 3002\n",
      "Номер группы: 9. Кол-во клиентов в группе: 4998\n",
      "Номер группы: 10. Кол-во клиентов в группе: 7974\n",
      "Номер группы: 11. Кол-во клиентов в группе: 12250\n",
      "Номер группы: 12. Кол-во клиентов в группе: 18185\n",
      "Номер группы: 13. Кол-во клиентов в группе: 26159\n",
      "Номер группы: 14. Кол-во клиентов в группе: 36550\n",
      "Номер группы: 15. Кол-во клиентов в группе: 49704\n",
      "Номер группы: 16. Кол-во клиентов в группе: 65901\n",
      "Номер группы: 17. Кол-во клиентов в группе: 85315\n",
      "Номер группы: 18. Кол-во клиентов в группе: 107974\n",
      "Номер группы: 19. Кол-во клиентов в группе: 133720\n",
      "Номер группы: 20. Кол-во клиентов в группе: 162183\n",
      "Номер группы: 21. Кол-во клиентов в группе: 192774\n",
      "Номер группы: 22. Кол-во клиентов в группе: 224695\n",
      "Номер группы: 23. Кол-во клиентов в группе: 256967\n",
      "Номер группы: 24. Кол-во клиентов в группе: 288471\n",
      "Номер группы: 25. Кол-во клиентов в группе: 318004\n",
      "Номер группы: 26. Кол-во клиентов в группе: 344346\n",
      "Номер группы: 27. Кол-во клиентов в группе: 366343\n",
      "Номер группы: 28. Кол-во клиентов в группе: 382984\n",
      "Номер группы: 29. Кол-во клиентов в группе: 393483\n",
      "Номер группы: 30. Кол-во клиентов в группе: 397338\n",
      "Номер группы: 31. Кол-во клиентов в группе: 394366\n",
      "Номер группы: 32. Кол-во клиентов в группе: 384710\n",
      "Номер группы: 33. Кол-во клиентов в группе: 368830\n",
      "Номер группы: 34. Кол-во клиентов в группе: 347465\n",
      "Номер группы: 35. Кол-во клиентов в группе: 321589\n",
      "Номер группы: 36. Кол-во клиентов в группе: 292338\n",
      "Номер группы: 37. Кол-во клиентов в группе: 260933\n",
      "Номер группы: 38. Кол-во клиентов в группе: 228599\n",
      "Номер группы: 39. Кол-во клиентов в группе: 196484\n",
      "Номер группы: 40. Кол-во клиентов в группе: 165596\n",
      "Номер группы: 41. Кол-во клиентов в группе: 136758\n",
      "Номер группы: 42. Кол-во клиентов в группе: 110586\n",
      "Номер группы: 43. Кол-во клиентов в группе: 87480\n",
      "Номер группы: 44. Кол-во клиентов в группе: 67630\n",
      "Номер группы: 45. Кол-во клиентов в группе: 51035\n",
      "Номер группы: 46. Кол-во клиентов в группе: 37538\n",
      "Номер группы: 47. Кол-во клиентов в группе: 26866\n",
      "Номер группы: 48. Кол-во клиентов в группе: 18670\n",
      "Номер группы: 49. Кол-во клиентов в группе: 12565\n",
      "Номер группы: 50. Кол-во клиентов в группе: 8164\n",
      "Номер группы: 51. Кол-во клиентов в группе: 5102\n",
      "Номер группы: 52. Кол-во клиентов в группе: 3052\n",
      "Номер группы: 53. Кол-во клиентов в группе: 1736\n",
      "Номер группы: 54. Кол-во клиентов в группе: 930\n",
      "Номер группы: 55. Кол-во клиентов в группе: 463\n",
      "Номер группы: 56. Кол-во клиентов в группе: 210\n",
      "Номер группы: 57. Кол-во клиентов в группе: 84\n",
      "Номер группы: 58. Кол-во клиентов в группе: 28\n",
      "Номер группы: 59. Кол-во клиентов в группе: 7\n",
      "Номер группы: 60. Кол-во клиентов в группе: 1\n"
     ]
    }
   ],
   "source": [
    "#Проверка работы функции с одним аргументом\n",
    "n_customers = 7412567\n",
    "print_dict(group_of_cust(n_customers))"
   ]
  },
  {
   "cell_type": "code",
   "execution_count": 4,
   "id": "ddd75b64",
   "metadata": {
    "execution": {
     "iopub.execute_input": "2022-10-15T06:24:04.970878Z",
     "iopub.status.busy": "2022-10-15T06:24:04.970454Z",
     "iopub.status.idle": "2022-10-15T06:24:17.172674Z",
     "shell.execute_reply": "2022-10-15T06:24:17.171522Z"
    },
    "papermill": {
     "duration": 12.211152,
     "end_time": "2022-10-15T06:24:17.176648",
     "exception": false,
     "start_time": "2022-10-15T06:24:04.965496",
     "status": "completed"
    },
    "tags": []
   },
   "outputs": [
    {
     "name": "stdout",
     "output_type": "stream",
     "text": [
      "Номер группы: 1. Кол-во клиентов в группе: 3\n",
      "Номер группы: 2. Кол-во клиентов в группе: 20\n",
      "Номер группы: 3. Кол-во клиентов в группе: 71\n",
      "Номер группы: 4. Кол-во клиентов в группе: 192\n",
      "Номер группы: 5. Кол-во клиентов в группе: 438\n",
      "Номер группы: 6. Кол-во клиентов в группе: 894\n",
      "Номер группы: 7. Кол-во клиентов в группе: 1678\n",
      "Номер группы: 8. Кол-во клиентов в группе: 2956\n",
      "Номер группы: 9. Кол-во клиентов в группе: 4948\n",
      "Номер группы: 10. Кол-во клиентов в группе: 7936\n",
      "Номер группы: 11. Кол-во клиентов в группе: 12257\n",
      "Номер группы: 12. Кол-во клиентов в группе: 18295\n",
      "Номер группы: 13. Кол-во клиентов в группе: 26469\n",
      "Номер группы: 14. Кол-во клиентов в группе: 37215\n",
      "Номер группы: 15. Кол-во клиентов в группе: 50957\n",
      "Номер группы: 16. Кол-во клиентов в группе: 68076\n",
      "Номер группы: 17. Кол-во клиентов в группе: 88872\n",
      "Номер группы: 18. Кол-во клиентов в группе: 113519\n",
      "Номер группы: 19. Кол-во клиентов в группе: 142015\n",
      "Номер группы: 20. Кол-во клиентов в группе: 174144\n",
      "Номер группы: 21. Кол-во клиентов в группе: 209462\n",
      "Номер группы: 22. Кол-во клиентов в группе: 247289\n",
      "Номер группы: 23. Кол-во клиентов в группе: 286719\n",
      "Номер группы: 24. Кол-во клиентов в группе: 326645\n",
      "Номер группы: 25. Кол-во клиентов в группе: 365798\n",
      "Номер группы: 26. Кол-во клиентов в группе: 402802\n",
      "Номер группы: 27. Кол-во клиентов в группе: 436245\n",
      "Номер группы: 28. Кол-во клиентов в группе: 464769\n",
      "Номер группы: 29. Кол-во клиентов в группе: 487170\n",
      "Номер группы: 30. Кол-во клиентов в группе: 502478\n",
      "Номер группы: 31. Кол-во клиентов в группе: 510016\n",
      "Номер группы: 32. Кол-во клиентов в группе: 509441\n",
      "Номер группы: 33. Кол-во клиентов в группе: 500764\n",
      "Номер группы: 34. Кол-во клиентов в группе: 484351\n",
      "Номер группы: 35. Кол-во клиентов в группе: 460906\n",
      "Номер группы: 36. Кол-во клиентов в группе: 431431\n",
      "Номер группы: 37. Кол-во клиентов в группе: 397162\n",
      "Номер группы: 38. Кол-во клиентов в группе: 359478\n",
      "Номер группы: 39. Кол-во клиентов в группе: 319804\n",
      "Номер группы: 40. Кол-во клиентов в группе: 279524\n",
      "Номер группы: 41. Кол-во клиентов в группе: 239916\n",
      "Номер группы: 42. Кол-во клиентов в группе: 202088\n",
      "Номер группы: 43. Кол-во клиентов в группе: 166943\n",
      "Номер группы: 44. Кол-во клиентов в группе: 135150\n",
      "Номер группы: 45. Кол-во клиентов в группе: 107131\n",
      "Номер группы: 46. Кол-во клиентов в группе: 83066\n",
      "Номер группы: 47. Кол-во клиентов в группе: 62920\n",
      "Номер группы: 48. Кол-во клиентов в группе: 46487\n",
      "Номер группы: 49. Кол-во клиентов в группе: 33438\n",
      "Номер группы: 50. Кол-во клиентов в группе: 23364\n",
      "Номер группы: 51. Кол-во клиентов в группе: 15818\n",
      "Номер группы: 52. Кол-во клиентов в группе: 10346\n",
      "Номер группы: 53. Кол-во клиентов в группе: 6513\n",
      "Номер группы: 54. Кол-во клиентов в группе: 3926\n",
      "Номер группы: 55. Кол-во клиентов в группе: 2249\n",
      "Номер группы: 56. Кол-во клиентов в группе: 1211\n",
      "Номер группы: 57. Кол-во клиентов в группе: 603\n",
      "Номер группы: 58. Кол-во клиентов в группе: 271\n",
      "Номер группы: 59. Кол-во клиентов в группе: 106\n",
      "Номер группы: 60. Кол-во клиентов в группе: 34\n",
      "Номер группы: 61. Кол-во клиентов в группе: 8\n",
      "Номер группы: 62. Кол-во клиентов в группе: 1\n"
     ]
    }
   ],
   "source": [
    "#Проверка работы функции с двумя аргументами\n",
    "n_customers = 9875821\n",
    "n_first_id = 1023\n",
    "print_dict(group_of_cust(n_customers, n_first_id))"
   ]
  },
  {
   "cell_type": "code",
   "execution_count": 5,
   "id": "65d2ace6",
   "metadata": {
    "execution": {
     "iopub.execute_input": "2022-10-15T06:24:17.186632Z",
     "iopub.status.busy": "2022-10-15T06:24:17.185949Z",
     "iopub.status.idle": "2022-10-15T06:24:26.363366Z",
     "shell.execute_reply": "2022-10-15T06:24:26.362221Z"
    },
    "papermill": {
     "duration": 9.184845,
     "end_time": "2022-10-15T06:24:26.365764",
     "exception": false,
     "start_time": "2022-10-15T06:24:17.180919",
     "status": "completed"
    },
    "tags": []
   },
   "outputs": [
    {
     "data": {
      "image/png": "[encoded data removed]",
      "text/plain": [
       "<Figure size 432x288 with 1 Axes>"
      ]
     },
     "metadata": {
      "needs_background": "light"
     },
     "output_type": "display_data"
    }
   ],
   "source": [
    "#Немного анализа результатов\n",
    "import matplotlib.pyplot as plt\n",
    "#matplotlib inline\n",
    "my_dict = group_of_cust(n_customers=7412567)\n",
    "plt.plot(my_dict.keys(), my_dict.values())\n",
    "plt.show()"
   ]
  },
  {
   "cell_type": "markdown",
   "id": "24975f94",
   "metadata": {
    "papermill": {
     "duration": 0.003746,
     "end_time": "2022-10-15T06:24:26.373756",
     "exception": false,
     "start_time": "2022-10-15T06:24:26.370010",
     "status": "completed"
    },
    "tags": []
   },
   "source": [
    "Как можно заметить, кол-во клиентов в группах распределено не равномерно между группами. На графике выше мы видим, что это нормальное распределение. Если необходимо, чтобы кол-во клиентов в группах было близко к равномерному, можно изменить алгоритм. \n",
    "Например, взять остаток от деления Id клиента на заданное кол-во групп."
   ]
  },
  {
   "cell_type": "code",
   "execution_count": 6,
   "id": "be67b442",
   "metadata": {
    "execution": {
     "iopub.execute_input": "2022-10-15T06:24:26.383357Z",
     "iopub.status.busy": "2022-10-15T06:24:26.382959Z",
     "iopub.status.idle": "2022-10-15T06:24:26.389426Z",
     "shell.execute_reply": "2022-10-15T06:24:26.388269Z"
    },
    "papermill": {
     "duration": 0.013787,
     "end_time": "2022-10-15T06:24:26.391504",
     "exception": false,
     "start_time": "2022-10-15T06:24:26.377717",
     "status": "completed"
    },
    "tags": []
   },
   "outputs": [],
   "source": [
    "def new_function_group(n_customers, n_groups, n_first_id=0):\n",
    "    group_dict = dict()\n",
    "    for cust in range(n_first_id, n_customers):\n",
    "        num_group = cust % n_groups\n",
    "        if num_group in group_dict:\n",
    "            group_dict[num_group] += 1\n",
    "        else:\n",
    "            group_dict[num_group] = 1\n",
    "    return(group_dict)"
   ]
  },
  {
   "cell_type": "code",
   "execution_count": 7,
   "id": "91080f9c",
   "metadata": {
    "execution": {
     "iopub.execute_input": "2022-10-15T06:24:26.401556Z",
     "iopub.status.busy": "2022-10-15T06:24:26.401009Z",
     "iopub.status.idle": "2022-10-15T06:24:27.864878Z",
     "shell.execute_reply": "2022-10-15T06:24:27.863653Z"
    },
    "papermill": {
     "duration": 1.471745,
     "end_time": "2022-10-15T06:24:27.867390",
     "exception": false,
     "start_time": "2022-10-15T06:24:26.395645",
     "status": "completed"
    },
    "tags": []
   },
   "outputs": [
    {
     "name": "stdout",
     "output_type": "stream",
     "text": [
      "Номер группы: 0. Кол-во клиентов в группе: 370629\n",
      "Номер группы: 1. Кол-во клиентов в группе: 370629\n",
      "Номер группы: 2. Кол-во клиентов в группе: 370629\n",
      "Номер группы: 3. Кол-во клиентов в группе: 370629\n",
      "Номер группы: 4. Кол-во клиентов в группе: 370629\n",
      "Номер группы: 5. Кол-во клиентов в группе: 370629\n",
      "Номер группы: 6. Кол-во клиентов в группе: 370629\n",
      "Номер группы: 7. Кол-во клиентов в группе: 370628\n",
      "Номер группы: 8. Кол-во клиентов в группе: 370628\n",
      "Номер группы: 9. Кол-во клиентов в группе: 370628\n",
      "Номер группы: 10. Кол-во клиентов в группе: 370628\n",
      "Номер группы: 11. Кол-во клиентов в группе: 370628\n",
      "Номер группы: 12. Кол-во клиентов в группе: 370628\n",
      "Номер группы: 13. Кол-во клиентов в группе: 370628\n",
      "Номер группы: 14. Кол-во клиентов в группе: 370628\n",
      "Номер группы: 15. Кол-во клиентов в группе: 370628\n",
      "Номер группы: 16. Кол-во клиентов в группе: 370628\n",
      "Номер группы: 17. Кол-во клиентов в группе: 370628\n",
      "Номер группы: 18. Кол-во клиентов в группе: 370628\n",
      "Номер группы: 19. Кол-во клиентов в группе: 370628\n"
     ]
    }
   ],
   "source": [
    "#Проверяем. Пусть кол-во групп будет = 20\n",
    "print_dict(new_function_group(n_customers=7412567, n_groups = 20))"
   ]
  },
  {
   "cell_type": "code",
   "execution_count": 8,
   "id": "e1de6de7",
   "metadata": {
    "execution": {
     "iopub.execute_input": "2022-10-15T06:24:27.877668Z",
     "iopub.status.busy": "2022-10-15T06:24:27.877251Z",
     "iopub.status.idle": "2022-10-15T06:24:28.292321Z",
     "shell.execute_reply": "2022-10-15T06:24:28.291231Z"
    },
    "papermill": {
     "duration": 0.424035,
     "end_time": "2022-10-15T06:24:28.295787",
     "exception": false,
     "start_time": "2022-10-15T06:24:27.871752",
     "status": "completed"
    },
    "tags": []
   },
   "outputs": [
    {
     "name": "stdout",
     "output_type": "stream",
     "text": [
      "Номер группы: 0. Кол-во клиентов в группе: 70970\n",
      "Номер группы: 1. Кол-во клиентов в группе: 70970\n",
      "Номер группы: 2. Кол-во клиентов в группе: 70970\n",
      "Номер группы: 3. Кол-во клиентов в группе: 70970\n",
      "Номер группы: 4. Кол-во клиентов в группе: 70970\n",
      "Номер группы: 5. Кол-во клиентов в группе: 70970\n",
      "Номер группы: 6. Кол-во клиентов в группе: 70970\n",
      "Номер группы: 7. Кол-во клиентов в группе: 70970\n",
      "Номер группы: 8. Кол-во клиентов в группе: 70970\n",
      "Номер группы: 9. Кол-во клиентов в группе: 70970\n",
      "Номер группы: 10. Кол-во клиентов в группе: 70970\n",
      "Номер группы: 11. Кол-во клиентов в группе: 70970\n",
      "Номер группы: 12. Кол-во клиентов в группе: 70970\n",
      "Номер группы: 13. Кол-во клиентов в группе: 70970\n",
      "Номер группы: 14. Кол-во клиентов в группе: 70970\n",
      "Номер группы: 15. Кол-во клиентов в группе: 70970\n",
      "Номер группы: 16. Кол-во клиентов в группе: 70970\n",
      "Номер группы: 17. Кол-во клиентов в группе: 70970\n",
      "Номер группы: 18. Кол-во клиентов в группе: 70970\n",
      "Номер группы: 19. Кол-во клиентов в группе: 70970\n",
      "Номер группы: 20. Кол-во клиентов в группе: 70970\n",
      "Номер группы: 21. Кол-во клиентов в группе: 70970\n",
      "Номер группы: 22. Кол-во клиентов в группе: 70970\n",
      "Номер группы: 23. Кол-во клиентов в группе: 70970\n",
      "Номер группы: 24. Кол-во клиентов в группе: 70970\n",
      "Номер группы: 25. Кол-во клиентов в группе: 70970\n",
      "Номер группы: 26. Кол-во клиентов в группе: 70970\n",
      "Номер группы: 27. Кол-во клиентов в группе: 70970\n",
      "Номер группы: 28. Кол-во клиентов в группе: 70970\n",
      "Номер группы: 29. Кол-во клиентов в группе: 70970\n"
     ]
    }
   ],
   "source": [
    "#Даже график можно уже не смотреть. Проверим еще раз, указав начальный индекс клиента\n",
    "print_dict(new_function_group(n_customers=2132748, n_groups = 30, n_first_id = 3648))"
   ]
  },
  {
   "cell_type": "code",
   "execution_count": null,
   "id": "fae3265a",
   "metadata": {
    "papermill": {
     "duration": 0.004004,
     "end_time": "2022-10-15T06:24:28.304157",
     "exception": false,
     "start_time": "2022-10-15T06:24:28.300153",
     "status": "completed"
    },
    "tags": []
   },
   "outputs": [],
   "source": []
  }
 ],
 "metadata": {
  "kernelspec": {
   "display_name": "Python 3",
   "language": "python",
   "name": "python3"
  },
  "language_info": {
   "codemirror_mode": {
    "name": "ipython",
    "version": 3
   },
   "file_extension": ".py",
   "mimetype": "text/x-python",
   "name": "python",
   "nbconvert_exporter": "python",
   "pygments_lexer": "ipython3",
   "version": "3.7.12"
  },
  "papermill": {
   "default_parameters": {},
   "duration": 41.989288,
   "end_time": "2022-10-15T06:24:28.930439",
   "environment_variables": {},
   "exception": null,
   "input_path": "__notebook__.ipynb",
   "output_path": "__notebook__.ipynb",
   "parameters": {},
   "start_time": "2022-10-15T06:23:46.941151",
   "version": "2.3.4"
  }
 },
 "nbformat": 4,
 "nbformat_minor": 5
}
