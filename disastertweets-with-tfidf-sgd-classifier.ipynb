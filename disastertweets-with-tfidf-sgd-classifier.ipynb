{
 "cells": [
  {
   "cell_type": "code",
   "execution_count": 1,
   "id": "c1cc1d1c",
   "metadata": {
    "_cell_guid": "b1076dfc-b9ad-4769-8c92-a6c4dae69d19",
    "_uuid": "8f2839f25d086af736a60e9eeb907d3b93b6e0e5",
    "execution": {
     "iopub.execute_input": "2022-11-25T09:23:33.991740Z",
     "iopub.status.busy": "2022-11-25T09:23:33.991294Z",
     "iopub.status.idle": "2022-11-25T09:23:35.169846Z",
     "shell.execute_reply": "2022-11-25T09:23:35.168667Z"
    },
    "papermill": {
     "duration": 1.189751,
     "end_time": "2022-11-25T09:23:35.173873",
     "exception": false,
     "start_time": "2022-11-25T09:23:33.984122",
     "status": "completed"
    },
    "tags": []
   },
   "outputs": [
    {
     "name": "stdout",
     "output_type": "stream",
     "text": [
      "/kaggle/input/nlp-getting-started/sample_submission.csv\n",
      "/kaggle/input/nlp-getting-started/train.csv\n",
      "/kaggle/input/nlp-getting-started/test.csv\n"
     ]
    }
   ],
   "source": [
    "# This Python 3 environment comes with many helpful analytics libraries installed\n",
    "# It is defined by the kaggle/python Docker image: https://github.com/kaggle/docker-python\n",
    "# For example, here's several helpful packages to load\n",
    "\n",
    "import numpy as np # linear algebra\n",
    "import pandas as pd # data processing, CSV file I/O (e.g. pd.read_csv)\n",
    "\n",
    "#import TfidfVectorizer for convertion text to a matrix of TF-IDF features.\n",
    "from sklearn.feature_extraction.text import TfidfVectorizer\n",
    "#import classifier algorithm\n",
    "from sklearn.linear_model import SGDClassifier\n",
    "\n",
    "# Input data files are available in the read-only \"../input/\" directory\n",
    "# For example, running this (by clicking run or pressing Shift+Enter) will list all files under the input directory\n",
    "\n",
    "import os\n",
    "for dirname, _, filenames in os.walk('/kaggle/input'):\n",
    "    for filename in filenames:\n",
    "        print(os.path.join(dirname, filename))\n",
    "\n",
    "# You can write up to 20GB to the current directory (/kaggle/working/) that gets preserved as output when you create a version using \"Save & Run All\" \n",
    "# You can also write temporary files to /kaggle/temp/, but they won't be saved outside of the current session"
   ]
  },
  {
   "cell_type": "code",
   "execution_count": 2,
   "id": "b6e57a2c",
   "metadata": {
    "execution": {
     "iopub.execute_input": "2022-11-25T09:23:35.185707Z",
     "iopub.status.busy": "2022-11-25T09:23:35.185285Z",
     "iopub.status.idle": "2022-11-25T09:23:35.264435Z",
     "shell.execute_reply": "2022-11-25T09:23:35.263558Z"
    },
    "papermill": {
     "duration": 0.087463,
     "end_time": "2022-11-25T09:23:35.266849",
     "exception": false,
     "start_time": "2022-11-25T09:23:35.179386",
     "status": "completed"
    },
    "tags": []
   },
   "outputs": [],
   "source": [
    "#Read data\n",
    "train_data = pd.read_csv(\"/kaggle/input/nlp-getting-started/train.csv\")\n",
    "test_data = pd.read_csv(\"/kaggle/input/nlp-getting-started/test.csv\")"
   ]
  },
  {
   "cell_type": "code",
   "execution_count": 3,
   "id": "fa399673",
   "metadata": {
    "execution": {
     "iopub.execute_input": "2022-11-25T09:23:35.277684Z",
     "iopub.status.busy": "2022-11-25T09:23:35.277236Z",
     "iopub.status.idle": "2022-11-25T09:23:35.297143Z",
     "shell.execute_reply": "2022-11-25T09:23:35.296110Z"
    },
    "papermill": {
     "duration": 0.028268,
     "end_time": "2022-11-25T09:23:35.299810",
     "exception": false,
     "start_time": "2022-11-25T09:23:35.271542",
     "status": "completed"
    },
    "tags": []
   },
   "outputs": [
    {
     "data": {
      "text/html": [
       "<div>\n",
       "<style scoped>\n",
       "    .dataframe tbody tr th:only-of-type {\n",
       "        vertical-align: middle;\n",
       "    }\n",
       "\n",
       "    .dataframe tbody tr th {\n",
       "        vertical-align: top;\n",
       "    }\n",
       "\n",
       "    .dataframe thead th {\n",
       "        text-align: right;\n",
       "    }\n",
       "</style>\n",
       "<table border=\"1\" class=\"dataframe\">\n",
       "  <thead>\n",
       "    <tr style=\"text-align: right;\">\n",
       "      <th></th>\n",
       "      <th>id</th>\n",
       "      <th>keyword</th>\n",
       "      <th>location</th>\n",
       "      <th>text</th>\n",
       "      <th>target</th>\n",
       "    </tr>\n",
       "  </thead>\n",
       "  <tbody>\n",
       "    <tr>\n",
       "      <th>0</th>\n",
       "      <td>1</td>\n",
       "      <td>NaN</td>\n",
       "      <td>NaN</td>\n",
       "      <td>Our Deeds are the Reason of this #earthquake M...</td>\n",
       "      <td>1</td>\n",
       "    </tr>\n",
       "    <tr>\n",
       "      <th>1</th>\n",
       "      <td>4</td>\n",
       "      <td>NaN</td>\n",
       "      <td>NaN</td>\n",
       "      <td>Forest fire near La Ronge Sask. Canada</td>\n",
       "      <td>1</td>\n",
       "    </tr>\n",
       "    <tr>\n",
       "      <th>2</th>\n",
       "      <td>5</td>\n",
       "      <td>NaN</td>\n",
       "      <td>NaN</td>\n",
       "      <td>All residents asked to 'shelter in place' are ...</td>\n",
       "      <td>1</td>\n",
       "    </tr>\n",
       "    <tr>\n",
       "      <th>3</th>\n",
       "      <td>6</td>\n",
       "      <td>NaN</td>\n",
       "      <td>NaN</td>\n",
       "      <td>13,000 people receive #wildfires evacuation or...</td>\n",
       "      <td>1</td>\n",
       "    </tr>\n",
       "    <tr>\n",
       "      <th>4</th>\n",
       "      <td>7</td>\n",
       "      <td>NaN</td>\n",
       "      <td>NaN</td>\n",
       "      <td>Just got sent this photo from Ruby #Alaska as ...</td>\n",
       "      <td>1</td>\n",
       "    </tr>\n",
       "  </tbody>\n",
       "</table>\n",
       "</div>"
      ],
      "text/plain": [
       "   id keyword location                                               text  \\\n",
       "0   1     NaN      NaN  Our Deeds are the Reason of this #earthquake M...   \n",
       "1   4     NaN      NaN             Forest fire near La Ronge Sask. Canada   \n",
       "2   5     NaN      NaN  All residents asked to 'shelter in place' are ...   \n",
       "3   6     NaN      NaN  13,000 people receive #wildfires evacuation or...   \n",
       "4   7     NaN      NaN  Just got sent this photo from Ruby #Alaska as ...   \n",
       "\n",
       "   target  \n",
       "0       1  \n",
       "1       1  \n",
       "2       1  \n",
       "3       1  \n",
       "4       1  "
      ]
     },
     "execution_count": 3,
     "metadata": {},
     "output_type": "execute_result"
    }
   ],
   "source": [
    "#Let's look at train data, we see many NaN-values in columns \"keyword\" and \"location\".\n",
    "train_data.head(5)"
   ]
  },
  {
   "cell_type": "code",
   "execution_count": 4,
   "id": "01df02e8",
   "metadata": {
    "execution": {
     "iopub.execute_input": "2022-11-25T09:23:35.311117Z",
     "iopub.status.busy": "2022-11-25T09:23:35.310741Z",
     "iopub.status.idle": "2022-11-25T09:23:35.322081Z",
     "shell.execute_reply": "2022-11-25T09:23:35.320993Z"
    },
    "papermill": {
     "duration": 0.020207,
     "end_time": "2022-11-25T09:23:35.324805",
     "exception": false,
     "start_time": "2022-11-25T09:23:35.304598",
     "status": "completed"
    },
    "tags": []
   },
   "outputs": [
    {
     "data": {
      "text/html": [
       "<div>\n",
       "<style scoped>\n",
       "    .dataframe tbody tr th:only-of-type {\n",
       "        vertical-align: middle;\n",
       "    }\n",
       "\n",
       "    .dataframe tbody tr th {\n",
       "        vertical-align: top;\n",
       "    }\n",
       "\n",
       "    .dataframe thead th {\n",
       "        text-align: right;\n",
       "    }\n",
       "</style>\n",
       "<table border=\"1\" class=\"dataframe\">\n",
       "  <thead>\n",
       "    <tr style=\"text-align: right;\">\n",
       "      <th></th>\n",
       "      <th>id</th>\n",
       "      <th>keyword</th>\n",
       "      <th>location</th>\n",
       "      <th>text</th>\n",
       "    </tr>\n",
       "  </thead>\n",
       "  <tbody>\n",
       "    <tr>\n",
       "      <th>0</th>\n",
       "      <td>0</td>\n",
       "      <td>NaN</td>\n",
       "      <td>NaN</td>\n",
       "      <td>Just happened a terrible car crash</td>\n",
       "    </tr>\n",
       "    <tr>\n",
       "      <th>1</th>\n",
       "      <td>2</td>\n",
       "      <td>NaN</td>\n",
       "      <td>NaN</td>\n",
       "      <td>Heard about #earthquake is different cities, s...</td>\n",
       "    </tr>\n",
       "    <tr>\n",
       "      <th>2</th>\n",
       "      <td>3</td>\n",
       "      <td>NaN</td>\n",
       "      <td>NaN</td>\n",
       "      <td>there is a forest fire at spot pond, geese are...</td>\n",
       "    </tr>\n",
       "    <tr>\n",
       "      <th>3</th>\n",
       "      <td>9</td>\n",
       "      <td>NaN</td>\n",
       "      <td>NaN</td>\n",
       "      <td>Apocalypse lighting. #Spokane #wildfires</td>\n",
       "    </tr>\n",
       "    <tr>\n",
       "      <th>4</th>\n",
       "      <td>11</td>\n",
       "      <td>NaN</td>\n",
       "      <td>NaN</td>\n",
       "      <td>Typhoon Soudelor kills 28 in China and Taiwan</td>\n",
       "    </tr>\n",
       "  </tbody>\n",
       "</table>\n",
       "</div>"
      ],
      "text/plain": [
       "   id keyword location                                               text\n",
       "0   0     NaN      NaN                 Just happened a terrible car crash\n",
       "1   2     NaN      NaN  Heard about #earthquake is different cities, s...\n",
       "2   3     NaN      NaN  there is a forest fire at spot pond, geese are...\n",
       "3   9     NaN      NaN           Apocalypse lighting. #Spokane #wildfires\n",
       "4  11     NaN      NaN      Typhoon Soudelor kills 28 in China and Taiwan"
      ]
     },
     "execution_count": 4,
     "metadata": {},
     "output_type": "execute_result"
    }
   ],
   "source": [
    "#There is same situation in the test data.\n",
    "test_data.head(5)"
   ]
  },
  {
   "cell_type": "code",
   "execution_count": 5,
   "id": "7b9fa68a",
   "metadata": {
    "execution": {
     "iopub.execute_input": "2022-11-25T09:23:35.336360Z",
     "iopub.status.busy": "2022-11-25T09:23:35.335956Z",
     "iopub.status.idle": "2022-11-25T09:23:35.349375Z",
     "shell.execute_reply": "2022-11-25T09:23:35.348183Z"
    },
    "papermill": {
     "duration": 0.021898,
     "end_time": "2022-11-25T09:23:35.351707",
     "exception": false,
     "start_time": "2022-11-25T09:23:35.329809",
     "status": "completed"
    },
    "tags": []
   },
   "outputs": [],
   "source": [
    "#Let's replace NaN-values to blank string (\"\")\n",
    "train_data['keyword'] = train_data['keyword'].replace(np.NaN,\"\")\n",
    "train_data['location'] = train_data['location'].replace(np.NaN,\"\")\n",
    "test_data['keyword'] = test_data['keyword'].replace(np.NaN,\"\")\n",
    "test_data['location'] = test_data['location'].replace(np.NaN,\"\")"
   ]
  },
  {
   "cell_type": "code",
   "execution_count": 6,
   "id": "62b83ffb",
   "metadata": {
    "execution": {
     "iopub.execute_input": "2022-11-25T09:23:35.362872Z",
     "iopub.status.busy": "2022-11-25T09:23:35.362498Z",
     "iopub.status.idle": "2022-11-25T09:23:35.397363Z",
     "shell.execute_reply": "2022-11-25T09:23:35.396325Z"
    },
    "papermill": {
     "duration": 0.043805,
     "end_time": "2022-11-25T09:23:35.400323",
     "exception": false,
     "start_time": "2022-11-25T09:23:35.356518",
     "status": "completed"
    },
    "tags": []
   },
   "outputs": [],
   "source": [
    "#Now we delete hyperlinks from texts because of no important information. \n",
    "#delete links \"http://t.co...\" from text\n",
    "train_data['text'] = train_data['text'].str.replace(r\"http://\\S*\",\"\",regex=True)\n",
    "test_data['text'] = test_data['text'].str.replace(r\"http://\\S*\",\"\",regex=True)\n",
    "#delete username links @aaa\n",
    "train_data['text'] = train_data['text'].str.replace(r\"@\\S*\",\"\",regex=True)\n",
    "test_data['text'] = test_data['text'].str.replace(r\"@\\S*\",\"\",regex=True)"
   ]
  },
  {
   "cell_type": "code",
   "execution_count": 7,
   "id": "bb89a5f9",
   "metadata": {
    "execution": {
     "iopub.execute_input": "2022-11-25T09:23:35.412519Z",
     "iopub.status.busy": "2022-11-25T09:23:35.412127Z",
     "iopub.status.idle": "2022-11-25T09:23:35.432188Z",
     "shell.execute_reply": "2022-11-25T09:23:35.431111Z"
    },
    "papermill": {
     "duration": 0.029004,
     "end_time": "2022-11-25T09:23:35.434351",
     "exception": false,
     "start_time": "2022-11-25T09:23:35.405347",
     "status": "completed"
    },
    "tags": []
   },
   "outputs": [],
   "source": [
    "#Lets's combine columns in one.\n",
    "train_data['text'] = train_data['keyword']+\" \"+train_data['location']+\" \"+train_data['text']\n",
    "test_data['text'] = test_data['keyword']+\" \"+test_data['location']+\" \"+test_data['text']\n",
    "train_data.drop(['keyword','location'], axis=1, inplace=True)\n",
    "test_data.drop(['keyword','location'], axis=1, inplace=True)"
   ]
  },
  {
   "cell_type": "code",
   "execution_count": 8,
   "id": "7a3c4204",
   "metadata": {
    "execution": {
     "iopub.execute_input": "2022-11-25T09:23:35.446471Z",
     "iopub.status.busy": "2022-11-25T09:23:35.446047Z",
     "iopub.status.idle": "2022-11-25T09:23:35.457524Z",
     "shell.execute_reply": "2022-11-25T09:23:35.456348Z"
    },
    "papermill": {
     "duration": 0.020291,
     "end_time": "2022-11-25T09:23:35.460111",
     "exception": false,
     "start_time": "2022-11-25T09:23:35.439820",
     "status": "completed"
    },
    "tags": []
   },
   "outputs": [
    {
     "data": {
      "text/html": [
       "<div>\n",
       "<style scoped>\n",
       "    .dataframe tbody tr th:only-of-type {\n",
       "        vertical-align: middle;\n",
       "    }\n",
       "\n",
       "    .dataframe tbody tr th {\n",
       "        vertical-align: top;\n",
       "    }\n",
       "\n",
       "    .dataframe thead th {\n",
       "        text-align: right;\n",
       "    }\n",
       "</style>\n",
       "<table border=\"1\" class=\"dataframe\">\n",
       "  <thead>\n",
       "    <tr style=\"text-align: right;\">\n",
       "      <th></th>\n",
       "      <th>id</th>\n",
       "      <th>text</th>\n",
       "      <th>target</th>\n",
       "    </tr>\n",
       "  </thead>\n",
       "  <tbody>\n",
       "    <tr>\n",
       "      <th>0</th>\n",
       "      <td>1</td>\n",
       "      <td>Our Deeds are the Reason of this #earthquake...</td>\n",
       "      <td>1</td>\n",
       "    </tr>\n",
       "    <tr>\n",
       "      <th>1</th>\n",
       "      <td>4</td>\n",
       "      <td>Forest fire near La Ronge Sask. Canada</td>\n",
       "      <td>1</td>\n",
       "    </tr>\n",
       "    <tr>\n",
       "      <th>2</th>\n",
       "      <td>5</td>\n",
       "      <td>All residents asked to 'shelter in place' ar...</td>\n",
       "      <td>1</td>\n",
       "    </tr>\n",
       "    <tr>\n",
       "      <th>3</th>\n",
       "      <td>6</td>\n",
       "      <td>13,000 people receive #wildfires evacuation ...</td>\n",
       "      <td>1</td>\n",
       "    </tr>\n",
       "    <tr>\n",
       "      <th>4</th>\n",
       "      <td>7</td>\n",
       "      <td>Just got sent this photo from Ruby #Alaska a...</td>\n",
       "      <td>1</td>\n",
       "    </tr>\n",
       "  </tbody>\n",
       "</table>\n",
       "</div>"
      ],
      "text/plain": [
       "   id                                               text  target\n",
       "0   1    Our Deeds are the Reason of this #earthquake...       1\n",
       "1   4             Forest fire near La Ronge Sask. Canada       1\n",
       "2   5    All residents asked to 'shelter in place' ar...       1\n",
       "3   6    13,000 people receive #wildfires evacuation ...       1\n",
       "4   7    Just got sent this photo from Ruby #Alaska a...       1"
      ]
     },
     "execution_count": 8,
     "metadata": {},
     "output_type": "execute_result"
    }
   ],
   "source": [
    "train_data.head(5)"
   ]
  },
  {
   "cell_type": "code",
   "execution_count": 9,
   "id": "3cff97e1",
   "metadata": {
    "execution": {
     "iopub.execute_input": "2022-11-25T09:23:35.471885Z",
     "iopub.status.busy": "2022-11-25T09:23:35.471502Z",
     "iopub.status.idle": "2022-11-25T09:23:35.481555Z",
     "shell.execute_reply": "2022-11-25T09:23:35.480282Z"
    },
    "papermill": {
     "duration": 0.018668,
     "end_time": "2022-11-25T09:23:35.483780",
     "exception": false,
     "start_time": "2022-11-25T09:23:35.465112",
     "status": "completed"
    },
    "tags": []
   },
   "outputs": [],
   "source": [
    "#Save target and id columns in the pandas series and drop them from train and test data.\n",
    "train_y = train_data['target']\n",
    "test_id = test_data['id']\n",
    "train_data.drop(['target','id'], axis=1, inplace=True)\n",
    "test_data.drop('id', axis=1, inplace=True)"
   ]
  },
  {
   "cell_type": "code",
   "execution_count": 10,
   "id": "defdc852",
   "metadata": {
    "execution": {
     "iopub.execute_input": "2022-11-25T09:23:35.495428Z",
     "iopub.status.busy": "2022-11-25T09:23:35.494982Z",
     "iopub.status.idle": "2022-11-25T09:23:35.501670Z",
     "shell.execute_reply": "2022-11-25T09:23:35.500219Z"
    },
    "papermill": {
     "duration": 0.015703,
     "end_time": "2022-11-25T09:23:35.504527",
     "exception": false,
     "start_time": "2022-11-25T09:23:35.488824",
     "status": "completed"
    },
    "tags": []
   },
   "outputs": [
    {
     "name": "stdout",
     "output_type": "stream",
     "text": [
      "size of train data = (7613, 1) \n",
      "size of test data = (3263, 1)\n"
     ]
    }
   ],
   "source": [
    "print(\"size of train data =\", train_data.shape, \"\\nsize of test data =\", test_data.shape)"
   ]
  },
  {
   "cell_type": "code",
   "execution_count": 11,
   "id": "320a2835",
   "metadata": {
    "execution": {
     "iopub.execute_input": "2022-11-25T09:23:35.517462Z",
     "iopub.status.busy": "2022-11-25T09:23:35.517016Z",
     "iopub.status.idle": "2022-11-25T09:23:40.214557Z",
     "shell.execute_reply": "2022-11-25T09:23:40.213585Z"
    },
    "papermill": {
     "duration": 4.70714,
     "end_time": "2022-11-25T09:23:40.217339",
     "exception": false,
     "start_time": "2022-11-25T09:23:35.510199",
     "status": "completed"
    },
    "tags": []
   },
   "outputs": [],
   "source": [
    "#Let's transform data to TF-IDF vectors. We will use whole words and groups by several characters (n-grams) from 2 to 7 symbols.\n",
    "vectorizer = TfidfVectorizer(analyzer='char_wb', ngram_range=(2,7), smooth_idf=False, use_idf=False, strip_accents='unicode')\n",
    "train_data = vectorizer.fit_transform(train_data['text'])\n",
    "test_data = vectorizer.transform(test_data['text'])"
   ]
  },
  {
   "cell_type": "code",
   "execution_count": 12,
   "id": "2ed50fd0",
   "metadata": {
    "execution": {
     "iopub.execute_input": "2022-11-25T09:23:40.231613Z",
     "iopub.status.busy": "2022-11-25T09:23:40.230826Z",
     "iopub.status.idle": "2022-11-25T09:23:40.237760Z",
     "shell.execute_reply": "2022-11-25T09:23:40.236278Z"
    },
    "papermill": {
     "duration": 0.017153,
     "end_time": "2022-11-25T09:23:40.240231",
     "exception": false,
     "start_time": "2022-11-25T09:23:40.223078",
     "status": "completed"
    },
    "tags": []
   },
   "outputs": [
    {
     "name": "stdout",
     "output_type": "stream",
     "text": [
      "size of train data = (7613, 272706) \n",
      "size of test data = (3263, 272706)\n"
     ]
    }
   ],
   "source": [
    "#The number of columns has increased.\n",
    "print(\"size of train data =\", train_data.shape, \"\\nsize of test data =\", test_data.shape)"
   ]
  },
  {
   "cell_type": "code",
   "execution_count": 13,
   "id": "37d93126",
   "metadata": {
    "execution": {
     "iopub.execute_input": "2022-11-25T09:23:40.252109Z",
     "iopub.status.busy": "2022-11-25T09:23:40.251732Z",
     "iopub.status.idle": "2022-11-25T09:23:40.657342Z",
     "shell.execute_reply": "2022-11-25T09:23:40.655715Z"
    },
    "papermill": {
     "duration": 0.41487,
     "end_time": "2022-11-25T09:23:40.660167",
     "exception": false,
     "start_time": "2022-11-25T09:23:40.245297",
     "status": "completed"
    },
    "tags": []
   },
   "outputs": [
    {
     "name": "stdout",
     "output_type": "stream",
     "text": [
      "accuracy score: 88.47\n"
     ]
    }
   ],
   "source": [
    "#SGDClassifier is a linear classifier with SGD training. \n",
    "#Even if we don't configure the hyperparameters and leave them by default values, the algorithm will still work very well.\n",
    "sgd = SGDClassifier(random_state=0, n_jobs=-1)\n",
    "sgd.fit(train_data, train_y)\n",
    "y_pred_sgd = sgd.predict(test_data)\n",
    "print(\"accuracy score:\", round(sgd.score(train_data, train_y)*100,2))"
   ]
  },
  {
   "cell_type": "code",
   "execution_count": 14,
   "id": "ea84b573",
   "metadata": {
    "execution": {
     "iopub.execute_input": "2022-11-25T09:23:40.672292Z",
     "iopub.status.busy": "2022-11-25T09:23:40.671867Z",
     "iopub.status.idle": "2022-11-25T09:23:40.687963Z",
     "shell.execute_reply": "2022-11-25T09:23:40.686880Z"
    },
    "papermill": {
     "duration": 0.025269,
     "end_time": "2022-11-25T09:23:40.690575",
     "exception": false,
     "start_time": "2022-11-25T09:23:40.665306",
     "status": "completed"
    },
    "tags": []
   },
   "outputs": [],
   "source": [
    "result_data = pd.DataFrame()\n",
    "result_data['id']=test_id\n",
    "result_data['target'] = y_pred_sgd\n",
    "result_data.to_csv(\"submission.csv\", index=False)"
   ]
  },
  {
   "cell_type": "code",
   "execution_count": null,
   "id": "035fd5d5",
   "metadata": {
    "papermill": {
     "duration": 0.005814,
     "end_time": "2022-11-25T09:23:40.701592",
     "exception": false,
     "start_time": "2022-11-25T09:23:40.695778",
     "status": "completed"
    },
    "tags": []
   },
   "outputs": [],
   "source": []
  }
 ],
 "metadata": {
  "kernelspec": {
   "display_name": "Python 3",
   "language": "python",
   "name": "python3"
  },
  "language_info": {
   "codemirror_mode": {
    "name": "ipython",
    "version": 3
   },
   "file_extension": ".py",
   "mimetype": "text/x-python",
   "name": "python",
   "nbconvert_exporter": "python",
   "pygments_lexer": "ipython3",
   "version": "3.7.12"
  },
  "papermill": {
   "default_parameters": {},
   "duration": 15.942311,
   "end_time": "2022-11-25T09:23:41.429613",
   "environment_variables": {},
   "exception": null,
   "input_path": "__notebook__.ipynb",
   "output_path": "__notebook__.ipynb",
   "parameters": {},
   "start_time": "2022-11-25T09:23:25.487302",
   "version": "2.3.4"
  }
 },
 "nbformat": 4,
 "nbformat_minor": 5
}
